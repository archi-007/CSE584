{
 "cells": [
  {
   "cell_type": "code",
   "execution_count": null,
   "metadata": {},
   "outputs": [],
   "source": [
    "'''this generates the xj for corresponding xi. use different models to experiment. device=0 uses gpu if there is any.'''\n",
    "\n",
    "from transformers import pipeline\n",
    "import pandas as pd\n",
    "\n",
    "\n",
    "generator = pipeline('text-generation', model='gpt2')\n",
    "# generator = pipeline('text-generation', model='bigscience/bloom-1b7', device=0)\n",
    "# generator = pipeline('text-generation', model='EleutherAI/gpt-neo-2.7B', device=0)\n",
    "\n",
    "df = pd.read_csv(\"xi.csv\")\n",
    "truncated_texts = df['truncated_text'].tolist()\n",
    "\n",
    "completions = []\n",
    "for truncated_text in truncated_texts:\n",
    "    completion = generator(truncated_text, max_length=50, num_return_sequences=1)[0]['generated_text']\n",
    "    completions.append(completion)\n",
    "\n",
    "df['gpt2_completion'] = completions\n",
    "df.to_csv(\"completions_gpt2.csv\", index=False)\n",
    "\n"
   ]
  },
  {
   "cell_type": "code",
   "execution_count": 3,
   "metadata": {},
   "outputs": [],
   "source": [
    "'''this combines and shuffles the dataset.'''\n",
    "import pandas as pd\n",
    "\n",
    "df_gpt2 = pd.read_csv(\"completions_gpt2.csv\")\n",
    "df_gpt_neo = pd.read_csv(\"completions_gpt_neo.csv\")\n",
    "df_bloom = pd.read_csv(\"completions_bloom_1b7.csv\")\n",
    "\n",
    "df_gpt2['model'] = 'gpt2'\n",
    "df_gpt_neo['model'] = 'gpt_neo'\n",
    "df_bloom['model'] = 'bloom'\n",
    "\n",
    "df_gpt2.rename(columns={'gpt2_completion': 'completion'}, inplace=True)\n",
    "df_gpt_neo.rename(columns={'gpt_neo_completion': 'completion'}, inplace=True)\n",
    "df_bloom.rename(columns={'bloom_completion': 'completion'}, inplace=True)\n",
    "\n",
    "combined_df = pd.concat([df_gpt2[['completion', 'model']],\n",
    "                         df_gpt_neo[['completion', 'model']],\n",
    "                         df_bloom[['completion', 'model']]], ignore_index=True)\n",
    "\n",
    "combined_df = combined_df.sample(frac=1, random_state=42).reset_index(drop=True)\n",
    "\n",
    "combined_df.to_csv(\"combined_completions_normal.csv\", index=False)\n"
   ]
  }
 ],
 "metadata": {
  "kernelspec": {
   "display_name": ".venv",
   "language": "python",
   "name": "python3"
  },
  "language_info": {
   "codemirror_mode": {
    "name": "ipython",
    "version": 3
   },
   "file_extension": ".py",
   "mimetype": "text/x-python",
   "name": "python",
   "nbconvert_exporter": "python",
   "pygments_lexer": "ipython3",
   "version": "3.12.1"
  }
 },
 "nbformat": 4,
 "nbformat_minor": 2
}
